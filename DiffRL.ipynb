{
 "cells": [
  {
   "cell_type": "markdown",
   "metadata": {},
   "source": [
    "Initialization step for Google Colab"
   ]
  },
  {
   "cell_type": "markdown",
   "metadata": {},
   "source": [
    "# Description of the problem:\n"
   ]
  },
  {
   "cell_type": "markdown",
   "metadata": {},
   "source": [
    "![trebuchet](https://fluxml.ai/assets/2019-03-05-dp-vs-rl/trebuchet-basic.gif)"
   ]
  },
  {
   "cell_type": "markdown",
   "metadata": {},
   "source": [
    "There is Trebuchet, which throws a mass to a target. The mass is to be\n",
    "released at an angle, and at certain velocity so that it lands on the target.\n",
    "The velocity of release is determined by the counterweight of the Trebuchet.\n",
    "Given conditions of environment we are required to predict the angle of\n",
    "release and counterweight.\n",
    "\n",
    "* **Input:**  Wind speed,   Target distance\n",
    "* **Output:** ReleaseAngle, Weight"
   ]
  },
  {
   "cell_type": "markdown",
   "metadata": {},
   "source": [
    "![overview](https://fluxml.ai/assets/2019-03-05-dp-vs-rl/trebuchet-flow.png)"
   ]
  },
  {
   "cell_type": "code",
   "execution_count": 1,
   "metadata": {},
   "outputs": [
    {
     "data": {
      "text/html": [
       "<script>\n",
       "// Immediately-invoked-function-expression to avoid global variables.\n",
       "(function() {\n",
       "    var warning_div = document.getElementById(\"webio-warning-1662232092954214940\");\n",
       "    var hide = function () {\n",
       "        var script = document.getElementById(\"webio-setup-13299006467001319843\");\n",
       "        var parent = script && script.parentElement;\n",
       "        var grandparent = parent && parent.parentElement;\n",
       "        if (grandparent) {\n",
       "            grandparent.style.display = \"none\";\n",
       "        }\n",
       "        warning_div.style.display = \"none\";\n",
       "    };\n",
       "    if (typeof Jupyter !== \"undefined\") {\n",
       "        console.log(\"WebIO detected Jupyter notebook environment.\");\n",
       "        // Jupyter notebook.\n",
       "        var extensions = (\n",
       "            Jupyter\n",
       "            && Jupyter.notebook.config.data\n",
       "            && Jupyter.notebook.config.data.load_extensions\n",
       "        );\n",
       "        if (extensions && extensions[\"webio-jupyter-notebook\"]) {\n",
       "            // Extension already loaded.\n",
       "            console.log(\"Jupyter WebIO nbextension detected; not loading ad-hoc.\");\n",
       "            hide();\n",
       "            return;\n",
       "        }\n",
       "    } else if (window.location.pathname.includes(\"/lab\")) {\n",
       "        // Guessing JupyterLa\n",
       "        console.log(\"Jupyter Lab detected; make sure the @webio/jupyter-lab-provider labextension is installed.\");\n",
       "        hide();\n",
       "        return;\n",
       "    }\n",
       "})();\n",
       "\n",
       "</script>\n",
       "<p\n",
       "    id=\"webio-warning-1662232092954214940\"\n",
       "    class=\"output_text output_stderr\"\n",
       "    style=\"padding: 1em; font-weight: bold;\"\n",
       ">\n",
       "    Unable to load WebIO. Please make sure WebIO works for your Jupyter client.\n",
       "    For troubleshooting, please see <a href=\"https://juliagizmos.github.io/WebIO.jl/latest/providers/ijulia/\">\n",
       "    the WebIO/IJulia documentation</a>.\n",
       "    <!-- TODO: link to installation docs. -->\n",
       "</p>\n"
      ],
      "text/plain": [
       "HTML{String}(\"<script>\\n// Immediately-invoked-function-expression to avoid global variables.\\n(function() {\\n    var warning_div = document.getElementById(\\\"webio-warning-1662232092954214940\\\");\\n    var hide = function () {\\n        var script = document.getElementById(\\\"webio-setup-13299006467001319843\\\");\\n        var parent = script && script.parentElement;\\n        var grandparent = parent && parent.parentElement;\\n        if (grandparent) {\\n            grandparent.style.display = \\\"none\\\";\\n        }\\n        warning_div.style.display = \\\"none\\\";\\n    };\\n    if (typeof Jupyter !== \\\"undefined\\\") {\\n        console.log(\\\"WebIO detected Jupyter notebook environment.\\\");\\n        // Jupyter notebook.\\n        var extensions = (\\n            Jupyter\\n            && Jupyter.notebook.config.data\\n            && Jupyter.notebook.config.data.load_extensions\\n        );\\n        if (extensions && extensions[\\\"webio-jupyter-notebook\\\"]) {\\n            // Extension already loaded.\\n            console.log(\\\"Jupyter WebIO nbextension detected; not loading ad-hoc.\\\");\\n            hide();\\n            return;\\n        }\\n    } else if (window.location.pathname.includes(\\\"/lab\\\")) {\\n        // Guessing JupyterLa\\n        console.log(\\\"Jupyter Lab detected; make sure the @webio/jupyter-lab-provider labextension is installed.\\\");\\n        hide();\\n        return;\\n    }\\n})();\\n\\n</script>\\n<p\\n    id=\\\"webio-warning-1662232092954214940\\\"\\n    class=\\\"output_text output_stderr\\\"\\n    style=\\\"padding: 1em; font-weight: bold;\\\"\\n>\\n    Unable to load WebIO. Please make sure WebIO works for your Jupyter client.\\n    For troubleshooting, please see <a href=\\\"https://juliagizmos.github.io/WebIO.jl/latest/providers/ijulia/\\\">\\n    the WebIO/IJulia documentation</a>.\\n    <!-- TODO: link to installation docs. -->\\n</p>\\n\")"
      ]
     },
     "metadata": {},
     "output_type": "display_data"
    },
    {
     "data": {
      "text/plain": [
       "lerp (generic function with 1 method)"
      ]
     },
     "execution_count": 1,
     "metadata": {},
     "output_type": "execute_result"
    }
   ],
   "source": [
    "using Flux, Trebuchet\n",
    "using Zygote: forwarddiff\n",
    "using Statistics: mean\n",
    "using Random\n",
    "\n",
    "# linear interpolation helper\n",
    "lerp(x, lo, hi) = x*(hi-lo)+lo"
   ]
  },
  {
   "cell_type": "markdown",
   "metadata": {},
   "source": [
    "## Create Model"
   ]
  },
  {
   "cell_type": "code",
   "execution_count": 2,
   "metadata": {},
   "outputs": [
    {
     "data": {
      "text/plain": [
       "Params([[0.3168043792247772 -0.4116273820400238; 0.47479915618896484 -0.13068382441997528; … ; 0.03846823051571846 0.4681353271007538; 0.46887311339378357 -0.3220793306827545], [0.0, 0.0, 0.0, 0.0, 0.0, 0.0, 0.0, 0.0, 0.0, 0.0, 0.0, 0.0, 0.0, 0.0, 0.0, 0.0], [0.05972081050276756 0.21486465632915497 … -0.2639364004135132 -0.07606439292430878; 0.10669917613267899 0.03548042103648186 … -0.16236916184425354 0.15217024087905884; … ; 0.257627934217453 0.24063166975975037 … 0.09960717707872391 -0.13336718082427979; 0.239832803606987 -0.01261446624994278 … 0.062869593501091 -0.13437746465206146], [0.0, 0.0, 0.0, 0.0, 0.0, 0.0, 0.0, 0.0, 0.0, 0.0  …  0.0, 0.0, 0.0, 0.0, 0.0, 0.0, 0.0, 0.0, 0.0, 0.0], [0.04914931580424309 0.23821789026260376 … 0.16744229197502136 -0.07608868181705475; 0.02194792777299881 0.16212758421897888 … -0.10771181434392929 -0.09736878424882889; … ; -0.04913253337144852 -0.038270484656095505 … -0.08832470327615738 -0.2596207559108734; -0.10204915702342987 -0.265544593334198 … -0.1732727438211441 0.12721580266952515], [0.0, 0.0, 0.0, 0.0, 0.0, 0.0, 0.0, 0.0, 0.0, 0.0, 0.0, 0.0, 0.0, 0.0, 0.0, 0.0], [-0.06311836838722229 -0.3868029713630676 … 0.44780564308166504 0.5259007215499878; -0.3301765024662018 -0.4390583336353302 … 0.10982446372509003 0.057081542909145355], [0.0, 0.0]])"
      ]
     },
     "execution_count": 2,
     "metadata": {},
     "output_type": "execute_result"
    }
   ],
   "source": [
    "Random.seed!(0)\n",
    "model = Chain(Dense(2, 16, σ),\n",
    "              Dense(16, 64, σ),\n",
    "              Dense(64, 16, σ),\n",
    "              Dense(16, 2)) |> f64\n",
    "θ = params(model)"
   ]
  },
  {
   "cell_type": "markdown",
   "metadata": {},
   "source": [
    "## Create Loss"
   ]
  },
  {
   "cell_type": "markdown",
   "metadata": {},
   "source": [
    "As Trebuchet.shoot uses `try`/`catch` within, which is not yet supported by default backwards differentiation, we need to mark our shoot function with ``Zygote.forwarddiff`` marker."
   ]
  },
  {
   "cell_type": "code",
   "execution_count": 11,
   "metadata": {},
   "outputs": [
    {
     "data": {
      "text/plain": [
       "shoot (generic function with 2 methods)"
      ]
     },
     "execution_count": 11,
     "metadata": {},
     "output_type": "execute_result"
    }
   ],
   "source": [
    "function _shoot(wind, angle, weight)\n",
    "  Trebuchet.shoot((wind, Trebuchet.deg2rad(angle), weight))[2]\n",
    "end\n",
    "\n",
    "shoot(wind, angle, weight) = forwarddiff(args -> shoot(args...), [wind, angle, weight])"
   ]
  },
  {
   "cell_type": "code",
   "execution_count": 6,
   "metadata": {},
   "outputs": [
    {
     "data": {
      "text/plain": [
       "loss (generic function with 1 method)"
      ]
     },
     "execution_count": 6,
     "metadata": {},
     "output_type": "execute_result"
    }
   ],
   "source": [
    "function aim(wind, target)\n",
    "  angle, weight = model([wind, target])\n",
    "  angle = σ(angle)*90\n",
    "  weight = weight + 200\n",
    "  angle, weight\n",
    "end\n",
    "\n",
    "distance(wind, target) = shoot(wind, aim(wind, target)...)\n",
    "\n",
    "function loss(wind, target)\n",
    "    (distance(wind, target) - target)^2\n",
    "end"
   ]
  },
  {
   "cell_type": "markdown",
   "metadata": {},
   "source": [
    "## Train"
   ]
  },
  {
   "cell_type": "code",
   "execution_count": 8,
   "metadata": {},
   "outputs": [
    {
     "data": {
      "text/plain": [
       "Base.Generator{UnitRange{Int64},var\"#7#8\"}(var\"#7#8\"(), 1:100000)"
      ]
     },
     "execution_count": 8,
     "metadata": {},
     "output_type": "execute_result"
    }
   ],
   "source": [
    "DIST  = (20, 100)\t# Maximum target distance\n",
    "SPEED =   5 # Maximum wind speed\n",
    "\n",
    "target() = (randn() * SPEED, lerp(rand(), DIST...))\n",
    "dataset = (target() for i = 1:100_000)"
   ]
  },
  {
   "cell_type": "code",
   "execution_count": 10,
   "metadata": {},
   "outputs": [
    {
     "name": "stdout",
     "output_type": "stream",
     "text": [
      "meanloss() = 27.453721987356246\n",
      "meanloss() = 4.112434513188521\n",
      "meanloss() = 4.6740403729001185\n",
      "meanloss() = 2.503849002993281\n",
      "meanloss() = 3.7323880002003293\n",
      "meanloss() = 3.1933209171762225\n",
      "meanloss() = 2.6113425638767818\n",
      "meanloss() = 2.617652736285628\n",
      "meanloss() = 1.9170700207077482\n",
      "meanloss() = 2.1478119836351617\n",
      "meanloss() = 3.138349903043968\n",
      "meanloss() = 3.799919755604677\n",
      "meanloss() = 2.0791362684310464\n",
      "meanloss() = 1.7607045610898524\n",
      "meanloss() = 1.8669339271242746\n",
      "meanloss() = 2.4895898754412293\n",
      "meanloss() = 3.24084496347228\n",
      "meanloss() = 2.2180810300848033\n",
      "meanloss() = 2.1001847338137334\n",
      "meanloss() = 2.8730234625593365\n",
      "meanloss() = 3.6226565205903296\n",
      "meanloss() = 2.6446318756822507\n",
      "meanloss() = 2.5674407543594646\n",
      "meanloss() = 2.330216910809488\n",
      "meanloss() = 2.5637590299677413\n",
      "meanloss() = 2.323357035356098\n",
      "meanloss() = 1.435861802748482\n",
      "meanloss() = 3.554102147474416\n",
      "meanloss() = 2.4212462143622613\n",
      "meanloss() = 1.467099328656713\n",
      "meanloss() = 3.1329125062189846\n",
      "meanloss() = 2.02068183803931\n",
      "meanloss() = 1.4522553522803625\n",
      "meanloss() = 1.7539154921036408\n",
      "meanloss() = 2.559751530604484\n",
      "meanloss() = 2.123408521957389\n",
      "meanloss() = 1.4248836526940334\n",
      "meanloss() = 1.8681995038402486\n"
     ]
    }
   ],
   "source": [
    "opt = ADAM()\n",
    "\n",
    "meanloss() = mean(sqrt(loss(target()...)) for i = 1:100)\n",
    "cb = Flux.throttle(() -> @show(meanloss()), 10)\n",
    "\n",
    "Flux.train!(loss, θ, dataset, opt, cb = cb)"
   ]
  },
  {
   "cell_type": "markdown",
   "metadata": {},
   "source": [
    "# Thank you\n",
    "\n",
    "For more details and further examples see the original blogpost  https://fluxml.ai/2019/03/05/dp-vs-rl.html."
   ]
  }
 ],
 "metadata": {
  "@webio": {
   "lastCommId": null,
   "lastKernelId": null
  },
  "kernelspec": {
   "display_name": "Julia 1.4.1",
   "language": "julia",
   "name": "julia-1.4"
  },
  "language_info": {
   "file_extension": ".jl",
   "mimetype": "application/julia",
   "name": "julia",
   "version": "1.4.1"
  }
 },
 "nbformat": 4,
 "nbformat_minor": 4
}
